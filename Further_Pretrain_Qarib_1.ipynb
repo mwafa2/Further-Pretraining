{
  "cells": [
    {
      "cell_type": "markdown",
      "metadata": {
        "id": "2YfGi20j0D2X"
      },
      "source": [
        "# Run Further-Training-Sentiment"
      ]
    },
    {
      "cell_type": "code",
      "execution_count": null,
      "metadata": {
        "id": "IsJgOsJyMF_u"
      },
      "outputs": [],
      "source": [
        "! pip install git+https://github.com/huggingface/transformers"
      ]
    },
    {
      "cell_type": "code",
      "execution_count": null,
      "metadata": {
        "id": "5z9zEzR9N1N5"
      },
      "outputs": [],
      "source": [
        "! pip install datasets"
      ]
    },
    {
      "cell_type": "code",
      "execution_count": null,
      "metadata": {
        "id": "FnE2wewQxBZS"
      },
      "outputs": [],
      "source": [
        "! python run_mlm.py \\\n",
        "    --model_name_or_path qarib/bert-base-qarib \\\n",
        "    --train_file /content/drive/MyDrive/all-tweet-reviwe.csv \\\n",
        "    --validation_split_percentage 2 \\\n",
        "    --do_train \\\n",
        "    --do_eval \\\n",
        "    --line_by_line \\\n",
        "    --load_best_model_at_end \\\n",
        "    --metric_for_best_model eval_loss \\\n",
        "    --greater_is_better False \\\n",
        "    --max_steps 300000 \\\n",
        "    --per_gpu_train_batch_size 16 \\\n",
        "    --per_gpu_eval_batch_size 16 \\\n",
        "    --gradient_accumulation_steps 4 \\\n",
        "    --evaluation_strategy steps \\\n",
        "    --learning_rate 0.8e-5 \\\n",
        "    --max_seq_length 64 \\\n",
        "    --save_steps 5000 \\\n",
        "    --save_total_limit 100 \\\n",
        "    --output_dir /content/drive/MyDrive/Output-1 \\\n",
        "    --overwrite_output_dir"
      ]
    }
  ],
  "metadata": {
    "accelerator": "GPU",
    "colab": {
      "collapsed_sections": [
        "2YfGi20j0D2X",
        "favfkH-1bWJm",
        "UxsFFER_zz2R"
      ],
      "machine_shape": "hm",
      "provenance": []
    },
    "kernelspec": {
      "display_name": "Python 3",
      "name": "python3"
    },
    "language_info": {
      "name": "python"
    }
  },
  "nbformat": 4,
  "nbformat_minor": 0
}